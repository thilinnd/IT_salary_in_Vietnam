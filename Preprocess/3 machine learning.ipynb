{
 "cells": [
  {
   "cell_type": "code",
   "execution_count": 1,
   "id": "15f8bd93",
   "metadata": {},
   "outputs": [],
   "source": [
    "import os\n",
    "import re\n",
    "import random\n",
    "import numpy as np\n",
    "import pandas as pd\n",
    "import matplotlib.pyplot as plt\n",
    "\n",
    "from sklearn.preprocessing import StandardScaler, OneHotEncoder, MultiLabelBinarizer\n",
    "from sklearn.utils import compute_class_weight, resample\n",
    "\n",
    "from sklearn.model_selection import train_test_split\n",
    "\n",
    "from sklearn.linear_model import LinearRegression\n",
    "from xgboost import XGBRegressor\n",
    "from sklearn.neural_network import MLPRegressor\n",
    "\n",
    "from sklearn.linear_model import LogisticRegression\n",
    "from sklearn.tree import DecisionTreeClassifier\n",
    "from sklearn.ensemble import (\n",
    "    RandomForestClassifier,\n",
    "    GradientBoostingClassifier,\n",
    "    AdaBoostClassifier\n",
    ")\n",
    "from sklearn.neighbors import KNeighborsClassifier\n",
    "from sklearn.neural_network import MLPClassifier\n",
    "from xgboost import XGBClassifier\n",
    "\n",
    "from sklearn.metrics import (\n",
    "    accuracy_score,\n",
    "    f1_score,\n",
    "    mean_squared_error,\n",
    "    r2_score,\n",
    "    silhouette_score\n",
    ")\n",
    "\n",
    "from sklearn.cluster import KMeans\n",
    "from kneed import KneeLocator\n"
   ]
  },
  {
   "cell_type": "code",
   "execution_count": 2,
   "id": "e9ea5f4f",
   "metadata": {},
   "outputs": [],
   "source": [
    "df = pd.read_csv('../data/job_en_with_skills.csv') \n",
    "group_skill_list = pd.read_csv('../data/skill.csv')['group_skill'].tolist()"
   ]
  },
  {
   "cell_type": "code",
   "execution_count": 3,
   "id": "6dd7f43e",
   "metadata": {},
   "outputs": [
    {
     "data": {
      "text/html": [
       "<div>\n",
       "<style scoped>\n",
       "    .dataframe tbody tr th:only-of-type {\n",
       "        vertical-align: middle;\n",
       "    }\n",
       "\n",
       "    .dataframe tbody tr th {\n",
       "        vertical-align: top;\n",
       "    }\n",
       "\n",
       "    .dataframe thead th {\n",
       "        text-align: right;\n",
       "    }\n",
       "</style>\n",
       "<table border=\"1\" class=\"dataframe\">\n",
       "  <thead>\n",
       "    <tr style=\"text-align: right;\">\n",
       "      <th></th>\n",
       "      <th>company_name</th>\n",
       "      <th>city_text</th>\n",
       "      <th>exp</th>\n",
       "      <th>item_tag</th>\n",
       "      <th>company_scale</th>\n",
       "      <th>company_field</th>\n",
       "      <th>position</th>\n",
       "      <th>education</th>\n",
       "      <th>min_salary</th>\n",
       "      <th>max_salary</th>\n",
       "      <th>average_salary</th>\n",
       "      <th>platform</th>\n",
       "      <th>job_des</th>\n",
       "      <th>job_require</th>\n",
       "      <th>skills</th>\n",
       "      <th>group_skill</th>\n",
       "    </tr>\n",
       "  </thead>\n",
       "  <tbody>\n",
       "    <tr>\n",
       "      <th>0</th>\n",
       "      <td>Navigos Search's Client</td>\n",
       "      <td>Hà Nội</td>\n",
       "      <td>3.0</td>\n",
       "      <td>Product Owner</td>\n",
       "      <td>NaN</td>\n",
       "      <td>Information technology</td>\n",
       "      <td>Staff</td>\n",
       "      <td>bachelor</td>\n",
       "      <td>75000000.0</td>\n",
       "      <td>125000000.0</td>\n",
       "      <td>100000000.0</td>\n",
       "      <td>vietnamworks</td>\n",
       "      <td>Mô tả công việc Navigos Search's Client is loo...</td>\n",
       "      <td>Yêu cầu công việc - A Bachelor’s degree in a r...</td>\n",
       "      <td>agile, blockchain, data, go, performance, qa, ...</td>\n",
       "      <td>Data Systems, Languages, OS &amp; Infrastructure, ...</td>\n",
       "    </tr>\n",
       "    <tr>\n",
       "      <th>1</th>\n",
       "      <td>Navigos Search's Client</td>\n",
       "      <td>Hà Nội, Đà Nẵng</td>\n",
       "      <td>6.0</td>\n",
       "      <td>Technical Lead (Nextjs &amp; Nestjs) Remote</td>\n",
       "      <td>NaN</td>\n",
       "      <td>Information technology</td>\n",
       "      <td>Team leader</td>\n",
       "      <td>unknown</td>\n",
       "      <td>75000000.0</td>\n",
       "      <td>125000000.0</td>\n",
       "      <td>100000000.0</td>\n",
       "      <td>vietnamworks</td>\n",
       "      <td>Mô tả công việc What You'll Be Doing • Lead ar...</td>\n",
       "      <td>Yêu cầu công việc • 6+ years of full-stack dev...</td>\n",
       "      <td>api, architecture, design, docker, graphql, pe...</td>\n",
       "      <td>Data Systems, Languages, Libs &amp; Frameworks, OS...</td>\n",
       "    </tr>\n",
       "    <tr>\n",
       "      <th>2</th>\n",
       "      <td>Navigos Search's Client</td>\n",
       "      <td>Hà Nội, Đà Nẵng</td>\n",
       "      <td>6.0</td>\n",
       "      <td>Technical Lead (Nextjs &amp; Nestjs)_Remote</td>\n",
       "      <td>NaN</td>\n",
       "      <td>Information technology</td>\n",
       "      <td>Team leader</td>\n",
       "      <td>unknown</td>\n",
       "      <td>75000000.0</td>\n",
       "      <td>125000000.0</td>\n",
       "      <td>100000000.0</td>\n",
       "      <td>vietnamworks</td>\n",
       "      <td>Mô tả công việc What You'll Be Doing • Lead ar...</td>\n",
       "      <td>Yêu cầu công việc • 6+ years of full-stack dev...</td>\n",
       "      <td>api, architecture, design, docker, graphql, pe...</td>\n",
       "      <td>Data Systems, Languages, Libs &amp; Frameworks, OS...</td>\n",
       "    </tr>\n",
       "    <tr>\n",
       "      <th>3</th>\n",
       "      <td>Navigos Search's Client</td>\n",
       "      <td>Hà Nội</td>\n",
       "      <td>3.5</td>\n",
       "      <td>Editorial - Retouch Specialist</td>\n",
       "      <td>NaN</td>\n",
       "      <td>Information technology</td>\n",
       "      <td>Staff</td>\n",
       "      <td>unknown</td>\n",
       "      <td>75000000.0</td>\n",
       "      <td>125000000.0</td>\n",
       "      <td>100000000.0</td>\n",
       "      <td>vietnamworks</td>\n",
       "      <td>Mô tả công việcTOP 4 JOB RESPONSIBILITIES Qual...</td>\n",
       "      <td>Yêu cầu công việcRequirements &amp; Experience • 3...</td>\n",
       "      <td>NaN</td>\n",
       "      <td>NaN</td>\n",
       "    </tr>\n",
       "    <tr>\n",
       "      <th>4</th>\n",
       "      <td>RGF HR Agent Vietnam Co., LTD</td>\n",
       "      <td>Hồ Chí Minh</td>\n",
       "      <td>8.0</td>\n",
       "      <td>116935 - Principal Backend Engineer - IT softw...</td>\n",
       "      <td>NaN</td>\n",
       "      <td>Information technology</td>\n",
       "      <td>Staff</td>\n",
       "      <td>NaN</td>\n",
       "      <td>97000000.0</td>\n",
       "      <td>100000000.0</td>\n",
       "      <td>98500000.0</td>\n",
       "      <td>careerviet</td>\n",
       "      <td>Mô tả Công việc         - Work Location: Phu N...</td>\n",
       "      <td>YÊU CẦU CÔNG VIỆC &lt;Necessary Skill / Experienc...</td>\n",
       "      <td>agile, architecture, design, docker, express, ...</td>\n",
       "      <td>Languages, Libs &amp; Frameworks, OS &amp; Infrastruct...</td>\n",
       "    </tr>\n",
       "  </tbody>\n",
       "</table>\n",
       "</div>"
      ],
      "text/plain": [
       "                    company_name        city_text  exp  \\\n",
       "0        Navigos Search's Client           Hà Nội  3.0   \n",
       "1        Navigos Search's Client  Hà Nội, Đà Nẵng  6.0   \n",
       "2        Navigos Search's Client  Hà Nội, Đà Nẵng  6.0   \n",
       "3        Navigos Search's Client           Hà Nội  3.5   \n",
       "4  RGF HR Agent Vietnam Co., LTD      Hồ Chí Minh  8.0   \n",
       "\n",
       "                                            item_tag company_scale  \\\n",
       "0                                      Product Owner           NaN   \n",
       "1            Technical Lead (Nextjs & Nestjs) Remote           NaN   \n",
       "2            Technical Lead (Nextjs & Nestjs)_Remote           NaN   \n",
       "3                     Editorial - Retouch Specialist           NaN   \n",
       "4  116935 - Principal Backend Engineer - IT softw...           NaN   \n",
       "\n",
       "            company_field     position education  min_salary   max_salary  \\\n",
       "0  Information technology        Staff  bachelor  75000000.0  125000000.0   \n",
       "1  Information technology  Team leader   unknown  75000000.0  125000000.0   \n",
       "2  Information technology  Team leader   unknown  75000000.0  125000000.0   \n",
       "3  Information technology        Staff   unknown  75000000.0  125000000.0   \n",
       "4  Information technology        Staff       NaN  97000000.0  100000000.0   \n",
       "\n",
       "   average_salary      platform  \\\n",
       "0     100000000.0  vietnamworks   \n",
       "1     100000000.0  vietnamworks   \n",
       "2     100000000.0  vietnamworks   \n",
       "3     100000000.0  vietnamworks   \n",
       "4      98500000.0    careerviet   \n",
       "\n",
       "                                             job_des  \\\n",
       "0  Mô tả công việc Navigos Search's Client is loo...   \n",
       "1  Mô tả công việc What You'll Be Doing • Lead ar...   \n",
       "2  Mô tả công việc What You'll Be Doing • Lead ar...   \n",
       "3  Mô tả công việcTOP 4 JOB RESPONSIBILITIES Qual...   \n",
       "4  Mô tả Công việc         - Work Location: Phu N...   \n",
       "\n",
       "                                         job_require  \\\n",
       "0  Yêu cầu công việc - A Bachelor’s degree in a r...   \n",
       "1  Yêu cầu công việc • 6+ years of full-stack dev...   \n",
       "2  Yêu cầu công việc • 6+ years of full-stack dev...   \n",
       "3  Yêu cầu công việcRequirements & Experience • 3...   \n",
       "4  YÊU CẦU CÔNG VIỆC <Necessary Skill / Experienc...   \n",
       "\n",
       "                                              skills  \\\n",
       "0  agile, blockchain, data, go, performance, qa, ...   \n",
       "1  api, architecture, design, docker, graphql, pe...   \n",
       "2  api, architecture, design, docker, graphql, pe...   \n",
       "3                                                NaN   \n",
       "4  agile, architecture, design, docker, express, ...   \n",
       "\n",
       "                                         group_skill  \n",
       "0  Data Systems, Languages, OS & Infrastructure, ...  \n",
       "1  Data Systems, Languages, Libs & Frameworks, OS...  \n",
       "2  Data Systems, Languages, Libs & Frameworks, OS...  \n",
       "3                                                NaN  \n",
       "4  Languages, Libs & Frameworks, OS & Infrastruct...  "
      ]
     },
     "execution_count": 3,
     "metadata": {},
     "output_type": "execute_result"
    }
   ],
   "source": [
    "df.head()"
   ]
  },
  {
   "cell_type": "code",
   "execution_count": 4,
   "id": "4a81b380",
   "metadata": {},
   "outputs": [],
   "source": [
    "from sklearn.metrics import (\n",
    "    accuracy_score, r2_score, f1_score, precision_score, recall_score\n",
    ")"
   ]
  },
  {
   "cell_type": "code",
   "execution_count": 5,
   "id": "e8e840cd",
   "metadata": {},
   "outputs": [],
   "source": [
    "# Set random seed for reproducibility\n",
    "SEED = 83\n",
    "random.seed(SEED)\n",
    "np.random.seed(SEED)\n",
    "os.environ['PYTHONHASHSEED'] = str(SEED)"
   ]
  },
  {
   "cell_type": "code",
   "execution_count": 6,
   "id": "9b6ac817",
   "metadata": {},
   "outputs": [],
   "source": [
    "# Data preprocessing functions\n",
    "def remove_outliers_percentile(df, col, lower_pct=0.01, upper_pct=0.99):\n",
    "    \"\"\"Remove outliers using percentile method\"\"\"\n",
    "    lower = df[col].quantile(lower_pct)\n",
    "    upper = df[col].quantile(upper_pct)\n",
    "    return df[(df[col] >= lower) & (df[col] <= upper)]\n",
    "\n",
    "def target_encode(df, col_name, target='average_salary'):\n",
    "    \"\"\"Target encoding for categorical variables\"\"\"\n",
    "    return df.groupby(col_name)[target].transform('mean')\n",
    "\n",
    "def augment_text(text, n_aug=2):\n",
    "    \"\"\"Text augmentation by swapping words\"\"\"\n",
    "    words = text.split()\n",
    "    for _ in range(n_aug):\n",
    "        if len(words) > 2:\n",
    "            idx1, idx2 = sorted(random.sample(range(len(words)), 2))\n",
    "            words[idx1], words[idx2] = words[idx2], words[idx1]\n",
    "    return ' '.join(words)\n"
   ]
  },
  {
   "cell_type": "code",
   "execution_count": 7,
   "id": "bce15bbf",
   "metadata": {},
   "outputs": [
    {
     "name": "stdout",
     "output_type": "stream",
     "text": [
      "✅ Data cleaning completed. Dataset shape: (2985, 17)\n",
      "Salary label distribution: \n",
      "salary_label\n",
      "2    1761\n",
      "1    1121\n",
      "0     103\n",
      "Name: count, dtype: int64\n"
     ]
    }
   ],
   "source": [
    "# Data cleaning and outlier removal\n",
    "df_work = remove_outliers_percentile(df.copy(), 'average_salary')\n",
    "\n",
    "# Create salary labels (0: low, 1: medium, 2: high)\n",
    "bins = [0, 8.5e6, 17e6, df['average_salary'].max()]\n",
    "labels = [0, 1, 2]\n",
    "df_work['salary_label'] = pd.cut(df_work['average_salary'], bins=bins, labels=labels).astype(int)\n",
    "\n",
    "print(f\"✅ Data cleaning completed. Dataset shape: {df_work.shape}\")\n",
    "print(f\"Salary label distribution: \\n{df_work['salary_label'].value_counts()}\")\n"
   ]
  },
  {
   "cell_type": "code",
   "execution_count": 8,
   "id": "ad355b75",
   "metadata": {},
   "outputs": [
    {
     "name": "stdout",
     "output_type": "stream",
     "text": [
      "✅ Feature engineering completed\n",
      "New features created: num_skills, num_group_skills, has_data_skill\n"
     ]
    }
   ],
   "source": [
    "# Feature engineering\n",
    "# Create numerical features from skills\n",
    "df_work['num_skills'] = df_work['skills'].apply(lambda x: len(str(x).split(',')) if pd.notnull(x) else 0)\n",
    "df_work['num_group_skills'] = df_work['group_skill'].apply(lambda x: len(str(x).split(',')) if pd.notnull(x) else 0)\n",
    "df_work['has_data_skill'] = df_work['group_skill'].apply(lambda x: int('data' in str(x).lower()) if pd.notnull(x) else 0)\n",
    "\n",
    "print(\"✅ Feature engineering completed\")\n",
    "print(f\"New features created: num_skills, num_group_skills, has_data_skill\")\n"
   ]
  },
  {
   "cell_type": "code",
   "execution_count": 9,
   "id": "17aaf6d9",
   "metadata": {},
   "outputs": [
    {
     "name": "stdout",
     "output_type": "stream",
     "text": [
      "✅ Data augmentation completed. Added 310 augmented samples\n",
      "Total samples after augmentation: 3295\n"
     ]
    }
   ],
   "source": [
    "# Data augmentation\n",
    "augmented_rows = []\n",
    "for i, row in df_work.iterrows():\n",
    "    if random.random() < 0.1:  # 10% chance of augmentation\n",
    "        new_row = row.copy()\n",
    "        new_row['job_des'] = augment_text(str(row['job_des']))\n",
    "        new_row['job_require'] = augment_text(str(row['job_require'])) \n",
    "        augmented_rows.append(new_row)\n",
    "\n",
    "df_aug = pd.DataFrame(augmented_rows)\n",
    "df_work = pd.concat([df_work, df_aug], ignore_index=True)\n",
    "\n",
    "print(f\"✅ Data augmentation completed. Added {len(df_aug)} augmented samples\")\n",
    "print(f\"Total samples after augmentation: {len(df_work)}\")\n"
   ]
  },
  {
   "cell_type": "code",
   "execution_count": 10,
   "id": "81e5b32f",
   "metadata": {},
   "outputs": [
    {
     "name": "stdout",
     "output_type": "stream",
     "text": [
      "✅ Categorical encoding completed\n",
      "Encoded columns: ['city_text_enc', 'company_field_enc', 'position_enc', 'platform_enc']\n"
     ]
    }
   ],
   "source": [
    "# Categorical encoding\n",
    "categorical_cols = ['city_text', 'company_field', 'position', 'platform']\n",
    "for col in categorical_cols:\n",
    "    df_work[col + '_enc'] = target_encode(df_work, col)\n",
    "\n",
    "print(\"✅ Categorical encoding completed\")\n",
    "print(f\"Encoded columns: {[col + '_enc' for col in categorical_cols]}\")\n"
   ]
  },
  {
   "cell_type": "code",
   "execution_count": 11,
   "id": "0a80985d",
   "metadata": {},
   "outputs": [
    {
     "name": "stdout",
     "output_type": "stream",
     "text": [
      "✅ Feature selection completed\n",
      "Selected 8 features\n",
      "Top 5 skill features: []\n"
     ]
    }
   ],
   "source": [
    "# Feature selection based on correlation with salary\n",
    "skill_columns = [col for col in df.columns if col.startswith('skill_')]\n",
    "correlations = df_work[skill_columns + ['average_salary']].corr(numeric_only=True)['average_salary'].drop('average_salary').abs()\n",
    "top_group_skill = correlations.sort_values(ascending=False).head(10).index.tolist()\n",
    "\n",
    "# Combine all features\n",
    "feature_cols = top_group_skill + ['exp', 'num_skills', 'num_group_skills', 'has_data_skill'] + [col + '_enc' for col in categorical_cols]\n",
    "\n",
    "print(\"✅ Feature selection completed\")\n",
    "print(f\"Selected {len(feature_cols)} features\")\n",
    "print(f\"Top 5 skill features: {top_group_skill[:5]}\")\n"
   ]
  },
  {
   "cell_type": "code",
   "execution_count": 12,
   "id": "8db625d7",
   "metadata": {},
   "outputs": [
    {
     "name": "stdout",
     "output_type": "stream",
     "text": [
      "✅ Data preparation and balancing completed\n",
      "Number of samples after balancing: 5799\n",
      "Label distribution: \n",
      "salary_label\n",
      "2    0.333333\n",
      "1    0.333333\n",
      "0    0.333333\n",
      "Name: proportion, dtype: float64\n"
     ]
    }
   ],
   "source": [
    "# Data preparation and balancing\n",
    "# Clean column names\n",
    "df_work.columns = [col.replace(\" \", \"_\").replace(\".\", \"_\").replace(\"-\", \"_\") for col in df_work.columns]\n",
    "\n",
    "# Prepare features and target\n",
    "X = df_work[feature_cols].fillna(0)\n",
    "y = df_work['salary_label']\n",
    "\n",
    "# Balance the dataset\n",
    "df_balanced = pd.concat([\n",
    "    resample(df_work[df_work.salary_label == label], \n",
    "             replace=True, \n",
    "             n_samples=df_work['salary_label'].value_counts().max(), \n",
    "             random_state=SEED)\n",
    "    for label in df_work['salary_label'].unique()\n",
    "], ignore_index=True)\n",
    "\n",
    "X = df_balanced[feature_cols].fillna(0)\n",
    "y = df_balanced['salary_label']\n",
    "\n",
    "# Scale features\n",
    "scaler = StandardScaler()\n",
    "X_scaled = pd.DataFrame(scaler.fit_transform(X), columns=X.columns)\n",
    "\n",
    "print(\"✅ Data preparation and balancing completed\")\n",
    "print(f\"Number of samples after balancing: {len(df_balanced)}\")\n",
    "print(f\"Label distribution: \\n{y.value_counts(normalize=True)}\")\n"
   ]
  },
  {
   "cell_type": "code",
   "execution_count": 13,
   "id": "09163391",
   "metadata": {},
   "outputs": [
    {
     "name": "stdout",
     "output_type": "stream",
     "text": [
      "✅ Train-test split completed\n",
      "Training set: 4639 samples\n",
      "Test set: 1160 samples\n"
     ]
    }
   ],
   "source": [
    "# Train-test split\n",
    "X_train, X_test, y_train, y_test = train_test_split(\n",
    "    X_scaled, y, test_size=0.2, stratify=y, random_state=SEED\n",
    ")\n",
    "\n",
    "print(\"✅ Train-test split completed\")\n",
    "print(f\"Training set: {X_train.shape[0]} samples\")\n",
    "print(f\"Test set: {X_test.shape[0]} samples\")\n"
   ]
  },
  {
   "cell_type": "code",
   "execution_count": 14,
   "id": "9d275645",
   "metadata": {},
   "outputs": [
    {
     "name": "stdout",
     "output_type": "stream",
     "text": [
      "✅ Models defined\n",
      "Number of models: 6\n",
      "Models: ['Logistic Regression', 'KNN', 'Random Forest', 'Decision Tree', 'XGBoost', 'Gradient Boosting']\n"
     ]
    }
   ],
   "source": [
    "# Define models\n",
    "models = {\n",
    "    \"Logistic Regression\": LogisticRegression(max_iter=1000),\n",
    "    \"KNN\": KNeighborsClassifier(n_neighbors=5),\n",
    "    \"Random Forest\": RandomForestClassifier(n_estimators=100, random_state=SEED),\n",
    "    \"Decision Tree\": DecisionTreeClassifier(random_state=SEED),\n",
    "    \"XGBoost\": XGBClassifier(n_estimators=100, use_label_encoder=False, eval_metric='mlogloss', random_state=SEED),\n",
    "    \"Gradient Boosting\": GradientBoostingClassifier(n_estimators=100, random_state=SEED),\n",
    "}\n",
    "\n",
    "print(\"✅ Models defined\")\n",
    "print(f\"Number of models: {len(models)}\")\n",
    "print(f\"Models: {list(models.keys())}\")\n"
   ]
  },
  {
   "cell_type": "code",
   "execution_count": 15,
   "id": "b3d985da",
   "metadata": {},
   "outputs": [
    {
     "name": "stdout",
     "output_type": "stream",
     "text": [
      "🎯 Result in classification (test):\n",
      "Logistic Regression  🎯 Accuracy = 0.6612 | R² = 0.3364 | F1 = 0.6647 | Recall = 0.6611 | Precision = 0.6912\n",
      "KNN                  🎯 Accuracy = 0.8181 | R² = 0.6261 | F1 = 0.8139 | Recall = 0.8183 | Precision = 0.8161\n",
      "Random Forest        🎯 Accuracy = 0.8802 | R² = 0.7814 | F1 = 0.8790 | Recall = 0.8803 | Precision = 0.8813\n",
      "Decision Tree        🎯 Accuracy = 0.8716 | R² = 0.7607 | F1 = 0.8700 | Recall = 0.8717 | Precision = 0.8743\n"
     ]
    },
    {
     "name": "stderr",
     "output_type": "stream",
     "text": [
      "c:\\Users\\vthuy\\AppData\\Local\\Programs\\Python\\Python312\\Lib\\site-packages\\xgboost\\training.py:183: UserWarning: [12:14:59] WARNING: C:\\actions-runner\\_work\\xgboost\\xgboost\\src\\learner.cc:738: \n",
      "Parameters: { \"use_label_encoder\" } are not used.\n",
      "\n",
      "  bst.update(dtrain, iteration=i, fobj=obj)\n"
     ]
    },
    {
     "name": "stdout",
     "output_type": "stream",
     "text": [
      "XGBoost              🎯 Accuracy = 0.8707 | R² = 0.7633 | F1 = 0.8694 | Recall = 0.8708 | Precision = 0.8712\n",
      "Gradient Boosting    🎯 Accuracy = 0.7560 | R² = 0.5136 | F1 = 0.7576 | Recall = 0.7561 | Precision = 0.7615\n"
     ]
    }
   ],
   "source": [
    "\n",
    "\n",
    "print(\"🎯 Result in classification (test):\")\n",
    "for name, model in models.items():\n",
    "    try:\n",
    "        model.fit(X_train, y_train)\n",
    "        y_pred = model.predict(X_test)\n",
    "\n",
    "        acc = accuracy_score(y_test, y_pred)\n",
    "        r2 = r2_score(y_test, y_pred)\n",
    "        f1 = f1_score(y_test, y_pred, average='macro')\n",
    "        recall = recall_score(y_test, y_pred, average='macro')\n",
    "        precision = precision_score(y_test, y_pred, average='macro')\n",
    "\n",
    "        print(f\"{name:<20} 🎯 Accuracy = {acc:.4f} | R² = {r2:.4f} | F1 = {f1:.4f} | Recall = {recall:.4f} | Precision = {precision:.4f}\")\n",
    "    except Exception as e:\n",
    "        print(f\"{name:<20} ❌ Error: {e}\")"
   ]
  },
  {
   "cell_type": "code",
   "execution_count": 16,
   "id": "40809bf4",
   "metadata": {},
   "outputs": [
    {
     "name": "stdout",
     "output_type": "stream",
     "text": [
      "📊 Feature Groups:\n",
      "EXPERIENCE: ['exp', 'position_enc']\n",
      "SKILL: ['num_skills', 'num_group_skills', 'has_data_skill']\n",
      "EXTERNAL: ['company_field_enc', 'city_text_enc']\n",
      "PLATFORM: ['platform_enc']\n"
     ]
    }
   ],
   "source": [
    "# Feature Groups Definition\n",
    "groups = {\n",
    "    \"experience\": [\"exp\", \"position_enc\"],\n",
    "    \"skill\": [\"num_skills\", \"num_group_skills\", \"has_data_skill\"],\n",
    "    \"external\": [\"company_field_enc\", \"city_text_enc\"],\n",
    "    \"platform\": [\"platform_enc\"]\n",
    "}\n",
    "\n",
    "print(\"📊 Feature Groups:\")\n",
    "for group_name, features in groups.items():\n",
    "    print(f\"{group_name.upper()}: {features}\")"
   ]
  },
  {
   "cell_type": "code",
   "execution_count": 17,
   "id": "1787eb67",
   "metadata": {},
   "outputs": [
    {
     "name": "stdout",
     "output_type": "stream",
     "text": [
      "✅ Feature importance calculated using Random Forest\n",
      "Top 5 most important features:\n",
      "          feature  importance\n",
      "              exp    0.245514\n",
      "company_field_enc    0.175849\n",
      "       num_skills    0.160429\n",
      "     position_enc    0.137979\n",
      "    city_text_enc    0.107310\n"
     ]
    }
   ],
   "source": [
    "# Feature Importance Analysis using Random Forest\n",
    "# Get the best model (Random Forest)\n",
    "best_model = models[\"Random Forest\"]\n",
    "best_model.fit(X_train, y_train)\n",
    "\n",
    "# Get feature importance\n",
    "feature_importance_scores = best_model.feature_importances_\n",
    "feature_names = X_scaled.columns\n",
    "\n",
    "# Create feature importance dataframe\n",
    "importance_df = pd.DataFrame({\n",
    "    'feature': feature_names,\n",
    "    'importance': feature_importance_scores\n",
    "}).sort_values('importance', ascending=False)\n",
    "\n",
    "print(\"✅ Feature importance calculated using Random Forest\")\n",
    "print(f\"Top 5 most important features:\")\n",
    "print(importance_df.head().to_string(index=False, float_format='%.6f'))\n"
   ]
  },
  {
   "cell_type": "code",
   "execution_count": 18,
   "id": "993f7b27",
   "metadata": {},
   "outputs": [],
   "source": [
    "\n",
    "from sklearn.metrics import accuracy_score, f1_score\n",
    "from sklearn.model_selection import cross_val_score\n",
    "import numpy as np\n",
    "from scipy import stats\n"
   ]
  },
  {
   "cell_type": "code",
   "execution_count": 19,
   "id": "a9129677",
   "metadata": {},
   "outputs": [],
   "source": [
    "def calculate_confidence_interval(scores, confidence=0.95):\n",
    "    \"\"\"Calculate confidence interval for scores\"\"\"\n",
    "    mean_score = np.mean(scores)\n",
    "    std_error = stats.sem(scores)\n",
    "    margin_error = std_error * stats.t.ppf((1 + confidence) / 2, len(scores) - 1)\n",
    "    lower_bound = mean_score - margin_error\n",
    "    upper_bound = mean_score + margin_error\n",
    "    return mean_score, f\"{lower_bound:.3f}–{upper_bound:.3f}\""
   ]
  },
  {
   "cell_type": "code",
   "execution_count": 20,
   "id": "29643738",
   "metadata": {},
   "outputs": [
    {
     "name": "stdout",
     "output_type": "stream",
     "text": [
      "✅ Ablation study with confidence intervals completed\n",
      "\n",
      "🔬 Ablation Study Results with 95% Confidence Intervals:\n",
      "           model  acc_mean    acc_CI95  f1_mean     f1_CI95\n",
      "            full    0.8838 0.880–0.888   0.8825 0.878–0.887\n",
      "minus_experience    0.7360 0.724–0.748   0.7324 0.719–0.745\n",
      "     minus_skill    0.7770 0.770–0.784   0.7785 0.772–0.785\n",
      "  minus_external    0.7624 0.756–0.769   0.7646 0.759–0.771\n",
      "  minus_platform    0.8688 0.866–0.872   0.8671 0.864–0.870\n"
     ]
    }
   ],
   "source": [
    "\n",
    "def evaluate_model_without_features_cv(X_train, X_test, y_train, y_test, features_to_remove, n_folds=5):\n",
    "    \"\"\"Evaluate model performance with cross-validation after removing specific features\"\"\"\n",
    "    # Get remaining features\n",
    "    remaining_features = [col for col in X_train.columns if col not in features_to_remove]\n",
    "    \n",
    "    if len(remaining_features) == 0:\n",
    "        return 0.0, 0.0, \"0.000–0.000\", \"0.000–0.000\"\n",
    "    \n",
    "    # Create new datasets without specified features\n",
    "    X_train_reduced = X_train[remaining_features]\n",
    "    X_test_reduced = X_test[remaining_features]\n",
    "    \n",
    "    # Combine train and test for cross-validation\n",
    "    X_combined = pd.concat([X_train_reduced, X_test_reduced], ignore_index=True)\n",
    "    y_combined = pd.concat([y_train, y_test], ignore_index=True)\n",
    "    \n",
    "    # Perform cross-validation\n",
    "    model = RandomForestClassifier(n_estimators=100, random_state=SEED)\n",
    "    \n",
    "    # Cross-validation for accuracy\n",
    "    acc_scores = cross_val_score(model, X_combined, y_combined, cv=n_folds, scoring='accuracy')\n",
    "    acc_mean, acc_ci = calculate_confidence_interval(acc_scores)\n",
    "    \n",
    "    # Cross-validation for F1 score\n",
    "    f1_scores = cross_val_score(model, X_combined, y_combined, cv=n_folds, scoring='f1_macro')\n",
    "    f1_mean, f1_ci = calculate_confidence_interval(f1_scores)\n",
    "    \n",
    "    return acc_mean, f1_mean, acc_ci, f1_ci\n",
    "\n",
    "# Perform ablation study with confidence intervals\n",
    "ablation_results = []\n",
    "\n",
    "# Full model (baseline) with cross-validation\n",
    "acc_mean, f1_mean, acc_ci, f1_ci = evaluate_model_without_features_cv(X_train, X_test, y_train, y_test, [])\n",
    "ablation_results.append({\n",
    "    'model': 'full',\n",
    "    'acc_mean': acc_mean,\n",
    "    'acc_CI95': acc_ci,\n",
    "    'f1_mean': f1_mean,\n",
    "    'f1_CI95': f1_ci,\n",
    "    'features_removed': 'none'\n",
    "})\n",
    "\n",
    "# Remove each feature group\n",
    "for group_name, features in groups.items():\n",
    "    acc_mean, f1_mean, acc_ci, f1_ci = evaluate_model_without_features_cv(X_train, X_test, y_train, y_test, features)\n",
    "    ablation_results.append({\n",
    "        'model': f'minus_{group_name}',\n",
    "        'acc_mean': acc_mean,\n",
    "        'acc_CI95': acc_ci,\n",
    "        'f1_mean': f1_mean,\n",
    "        'f1_CI95': f1_ci,\n",
    "        'features_removed': ', '.join(features)\n",
    "    })\n",
    "\n",
    "ablation_df = pd.DataFrame(ablation_results)\n",
    "\n",
    "print(\"✅ Ablation study with confidence intervals completed\")\n",
    "print(\"\\n🔬 Ablation Study Results with 95% Confidence Intervals:\")\n",
    "print(ablation_df[['model', 'acc_mean', 'acc_CI95', 'f1_mean', 'f1_CI95']].to_string(index=False, float_format='%.4f'))\n",
    "\n"
   ]
  },
  {
   "cell_type": "code",
   "execution_count": 21,
   "id": "d3146930",
   "metadata": {},
   "outputs": [
    {
     "data": {
      "image/png": "[encoded data removed]",
      "text/plain": [
       "<Figure size 1200x800 with 1 Axes>"
      ]
     },
     "metadata": {},
     "output_type": "display_data"
    },
    {
     "name": "stdout",
     "output_type": "stream",
     "text": [
      "📊 Feature Importance Visualization completed\n"
     ]
    }
   ],
   "source": [
    "# Feature Importance Visualization\n",
    "plt.figure(figsize=(12, 8))\n",
    "\n",
    "# Sort features by importance\n",
    "importance_sorted = importance_df.sort_values('importance', ascending=True)\n",
    "\n",
    "# Create horizontal bar plot\n",
    "bars = plt.barh(importance_sorted['feature'], importance_sorted['importance'])\n",
    "\n",
    "plt.title('Feature Importance Analysis', fontsize=16, fontweight='bold', pad=20)\n",
    "plt.xlabel('Importance Score', fontsize=12)\n",
    "plt.ylabel('Features', fontsize=12)\n",
    "\n",
    "# Add value labels on bars\n",
    "for i, (bar, value) in enumerate(zip(bars, importance_sorted['importance'])):\n",
    "    plt.text(bar.get_width() + 0.005, bar.get_y() + bar.get_height()/2, \n",
    "             f'{value:.4f}', ha='left', va='center', fontweight='bold')\n",
    "\n",
    "# Add grid for better readability\n",
    "plt.grid(axis='x', alpha=0.3)\n",
    "\n",
    "plt.tight_layout()\n",
    "plt.show()\n",
    "\n",
    "print(\"📊 Feature Importance Visualization completed\")\n"
   ]
  }
 ],
 "metadata": {
  "kernelspec": {
   "display_name": "Python 3",
   "language": "python",
   "name": "python3"
  },
  "language_info": {
   "codemirror_mode": {
    "name": "ipython",
    "version": 3
   },
   "file_extension": ".py",
   "mimetype": "text/x-python",
   "name": "python",
   "nbconvert_exporter": "python",
   "pygments_lexer": "ipython3",
   "version": "3.12.0"
  }
 },
 "nbformat": 4,
 "nbformat_minor": 5
}
