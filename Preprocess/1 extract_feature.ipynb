{
 "cells": [
  {
   "cell_type": "code",
   "execution_count": 1,
   "id": "ea74116a",
   "metadata": {},
   "outputs": [],
   "source": [
    "import pandas as pd\n",
    "import numpy as np\n",
    "import matplotlib.pyplot as plt\n",
    "import json\n",
    "import os\n",
    "import string\n",
    "import re"
   ]
  },
  {
   "cell_type": "code",
   "execution_count": 3,
   "id": "c4700db7",
   "metadata": {},
   "outputs": [
    {
     "name": "stdout",
     "output_type": "stream",
     "text": [
      "Collecting openpyxlNote: you may need to restart the kernel to use updated packages.\n",
      "\n",
      "  Using cached openpyxl-3.1.5-py2.py3-none-any.whl (250 kB)\n",
      "Collecting et-xmlfile\n",
      "  Using cached et_xmlfile-2.0.0-py3-none-any.whl (18 kB)\n",
      "Installing collected packages: et-xmlfile, openpyxl\n",
      "Successfully installed et-xmlfile-2.0.0 openpyxl-3.1.5\n"
     ]
    },
    {
     "name": "stderr",
     "output_type": "stream",
     "text": [
      "\n",
      "[notice] A new release of pip is available: 23.0.1 -> 25.1.1\n",
      "[notice] To update, run: python.exe -m pip install --upgrade pip\n"
     ]
    },
    {
     "name": "stdout",
     "output_type": "stream",
     "text": [
      "<class 'pandas.core.frame.DataFrame'>\n",
      "RangeIndex: 3047 entries, 0 to 3046\n",
      "Data columns (total 14 columns):\n",
      " #   Column          Non-Null Count  Dtype  \n",
      "---  ------          --------------  -----  \n",
      " 0   company_name    3040 non-null   object \n",
      " 1   city_text       3044 non-null   object \n",
      " 2   exp             3047 non-null   float64\n",
      " 3   item_tag        3046 non-null   object \n",
      " 4   company_scale   2249 non-null   object \n",
      " 5   company_field   3047 non-null   object \n",
      " 6   position        3047 non-null   object \n",
      " 7   education       2735 non-null   object \n",
      " 8   min_salary      3047 non-null   float64\n",
      " 9   max_salary      3047 non-null   float64\n",
      " 10  average_salary  3047 non-null   float64\n",
      " 11  platform        3047 non-null   object \n",
      " 12  job_des         3046 non-null   object \n",
      " 13  job_require     3047 non-null   object \n",
      "dtypes: float64(4), object(10)\n",
      "memory usage: 333.4+ KB\n",
      "None\n",
      "               exp    min_salary    max_salary  average_salary\n",
      "count  3047.000000  3.047000e+03  3.047000e+03    3.047000e+03\n",
      "mean      1.976567  1.840352e+07  2.724740e+07    2.282546e+07\n",
      "std       1.455078  1.251857e+07  1.719319e+07    1.387888e+07\n",
      "min       0.000000  1.000000e+06  1.000000e+06    2.000000e+06\n",
      "25%       1.000000  1.000000e+07  1.500000e+07    1.350000e+07\n",
      "50%       2.000000  1.500000e+07  2.500000e+07    1.950000e+07\n",
      "75%       3.000000  2.387500e+07  3.500000e+07    2.850000e+07\n",
      "max      16.000000  9.700000e+07  1.274250e+08    1.000000e+08\n",
      "company_name        7\n",
      "city_text           3\n",
      "exp                 0\n",
      "item_tag            1\n",
      "company_scale     798\n",
      "company_field       0\n",
      "position            0\n",
      "education         312\n",
      "min_salary          0\n",
      "max_salary          0\n",
      "average_salary      0\n",
      "platform            0\n",
      "job_des             1\n",
      "job_require         0\n",
      "dtype: int64\n"
     ]
    }
   ],
   "source": [
    "df = pd.read_excel('../data/job_en.xlsx')\n",
    "print(df.info())\n",
    "print(df.describe())\n",
    "print(df.isnull().sum())"
   ]
  },
  {
   "cell_type": "code",
   "execution_count": 4,
   "id": "043d55a0",
   "metadata": {},
   "outputs": [],
   "source": [
    "skill_df = pd.read_csv('..\\data\\skill.csv') \n"
   ]
  },
  {
   "cell_type": "code",
   "execution_count": null,
   "id": "e218d275",
   "metadata": {},
   "outputs": [
    {
     "name": "stdout",
     "output_type": "stream",
     "text": [
      "                                             job_des  \\\n",
      "0  Mô tả công việc Navigos Search's Client is loo...   \n",
      "1  Mô tả công việc What You'll Be Doing • Lead ar...   \n",
      "2  Mô tả công việc What You'll Be Doing • Lead ar...   \n",
      "3  Mô tả công việcTOP 4 JOB RESPONSIBILITIES Qual...   \n",
      "4  Mô tả Công việc         - Work Location: Phu N...   \n",
      "\n",
      "                                         job_require  \\\n",
      "0  Yêu cầu công việc - A Bachelor’s degree in a r...   \n",
      "1  Yêu cầu công việc • 6+ years of full-stack dev...   \n",
      "2  Yêu cầu công việc • 6+ years of full-stack dev...   \n",
      "3  Yêu cầu công việcRequirements & Experience • 3...   \n",
      "4  YÊU CẦU CÔNG VIỆC <Necessary Skill / Experienc...   \n",
      "\n",
      "                                              skills  \\\n",
      "0  agile, blockchain, data, go, performance, qa, ...   \n",
      "1  api, architecture, design, docker, graphql, pe...   \n",
      "2  api, architecture, design, docker, graphql, pe...   \n",
      "3                                                      \n",
      "4  agile, architecture, design, docker, express, ...   \n",
      "\n",
      "                                         group_skill  \n",
      "0  Data Systems, Languages, OS & Infrastructure, ...  \n",
      "1  Data Systems, Languages, Libs & Frameworks, OS...  \n",
      "2  Data Systems, Languages, Libs & Frameworks, OS...  \n",
      "3                                                     \n",
      "4  Languages, Libs & Frameworks, OS & Infrastruct...  \n"
     ]
    }
   ],
   "source": [
    "\n",
    "skill_to_group = dict(zip(skill_df['skill'], skill_df['group_skill']))\n",
    "skills = list(skill_to_group.keys())\n",
    "\n",
    "# Extract_skills và group function\n",
    "def extract_skills_and_groups(row):\n",
    "    text_combined = f\"{row['job_des']} {row['job_require']}\".lower()\n",
    "    matched_skills = set()\n",
    "    matched_groups = set()\n",
    "    \n",
    "    for skill in skills:\n",
    "        pattern = r'(?<!\\w)' + re.escape(skill) + r'(?!\\w)'\n",
    "        if re.search(pattern, text_combined):\n",
    "            matched_skills.add(skill.strip().lower())\n",
    "            matched_groups.add(skill_to_group[skill].strip())\n",
    "\n",
    "    return pd.Series({\n",
    "        'skills': ', '.join(sorted(matched_skills)),\n",
    "        'group_skill': ', '.join(sorted(matched_groups))\n",
    "    })\n",
    "\n",
    "\n",
    "# Apply vào dataframe\n",
    "test_df = df.head(5).copy()\n",
    "test_df[['skills', 'group_skill']] = test_df.apply(extract_skills_and_groups, axis=1)\n",
    "\n",
    "print(test_df[['job_des', 'job_require', 'skills', 'group_skill']])"
   ]
  },
  {
   "cell_type": "code",
   "execution_count": 6,
   "id": "9d134df5",
   "metadata": {},
   "outputs": [],
   "source": [
    "#apply for all df\n",
    "df[['skills', 'group_skill']] = df.apply(extract_skills_and_groups, axis=1)"
   ]
  },
  {
   "cell_type": "code",
   "execution_count": 7,
   "id": "41fe6f63",
   "metadata": {},
   "outputs": [
    {
     "name": "stdout",
     "output_type": "stream",
     "text": [
      "Empty skills for job_des: Mô tả công việcTOP 4 JOB RESPONSIBILITIES Quality Assurance and Detail Orientation • Perform rigorous quality checks on all images before delivery, ensuring they meet our high standards and the specific requirements of each customer. • Attention to detail is crucial, as this role demands the ability to spot minor discrepancies or errors and correct them promptly. Understanding Customer Aesthetics • Have a keen eye for fashion aesthetics and the ability to understand and adapt to various customer preferences and styles. • Serve as the bridge between our production team and customers, ensuring that each image not only meets technical standards but also aligns with the customer's vision and brand identity. Proactiveness in Operational Improvement • The role requires a proactive approach to identifying opportunities for improvement within the production process. • This includes suggesting enhancements to workflows, technology, and techniques based on customer feedback, industry trends, and their own observations to elevate the quality of our output continually. Training and Development • Developing and delivering training materials and sessions to our production team will be a key responsibility. • This is to ensure the team stays updated on the latest retouching techniques, understands new customer requirements, and maintains a trajectory of growth and improvement in their skills and efficiency.\n"
     ]
    }
   ],
   "source": [
    "# for all cells in skills, if it is empty, print job_des\n",
    "for index, row in test_df.iterrows():\n",
    "    if not row['skills']:\n",
    "        print(f\"Empty skills for job_des: {row['job_des']}\")"
   ]
  },
  {
   "cell_type": "code",
   "execution_count": 8,
   "id": "cdb506b3",
   "metadata": {},
   "outputs": [
    {
     "name": "stdout",
     "output_type": "stream",
     "text": [
      "Skills count:\n",
      "skills\n",
      "design          1530\n",
      "data             768\n",
      "performance      593\n",
      "testing          479\n",
      "web              393\n",
      "                ... \n",
      "wcf                1\n",
      "unity3d            1\n",
      "voip               1\n",
      "xamarin            1\n",
      "unit-testing       1\n",
      "Name: count, Length: 203, dtype: int64\n"
     ]
    }
   ],
   "source": [
    "# count each skill have many times in df\n",
    "skills_count = df['skills'].str.split(', ').explode().value_counts()\n",
    "# print\n",
    "print(\"Skills count:\")\n",
    "print(skills_count)"
   ]
  },
  {
   "cell_type": "code",
   "execution_count": 9,
   "id": "5594d74a",
   "metadata": {},
   "outputs": [
    {
     "name": "stdout",
     "output_type": "stream",
     "text": [
      "Skills count:\n",
      "group_skill\n",
      "Process & Methods      2160\n",
      "OS & Infrastructure    1262\n",
      "Data Systems           1148\n",
      "Languages              1030\n",
      "Libs & Frameworks       679\n",
      "Development Tools       638\n",
      "                        325\n",
      "Name: count, dtype: int64\n"
     ]
    }
   ],
   "source": [
    "# count each skill have many times in df\n",
    "group_count = df['group_skill'].str.split(', ').explode().value_counts()\n",
    "# print\n",
    "print(\"Skills count:\")\n",
    "print(group_count)"
   ]
  },
  {
   "cell_type": "code",
   "execution_count": 10,
   "id": "fe9af7d5",
   "metadata": {},
   "outputs": [],
   "source": [
    "# save to csv\n",
    "output_path = '../data/job_en_with_skills.csv'"
   ]
  },
  {
   "cell_type": "code",
   "execution_count": 11,
   "id": "84b5555e",
   "metadata": {},
   "outputs": [
    {
     "name": "stdout",
     "output_type": "stream",
     "text": [
      "Saving to ../data/job_en_with_skills.csv\n"
     ]
    }
   ],
   "source": [
    "# print path saved\n",
    "print(f\"Saving to {output_path}\")\n",
    "df.to_csv(output_path, index=False)\n"
   ]
  }
 ],
 "metadata": {
  "kernelspec": {
   "display_name": "Python 3",
   "language": "python",
   "name": "python3"
  },
  "language_info": {
   "codemirror_mode": {
    "name": "ipython",
    "version": 3
   },
   "file_extension": ".py",
   "mimetype": "text/x-python",
   "name": "python",
   "nbconvert_exporter": "python",
   "pygments_lexer": "ipython3",
   "version": "3.10.11"
  }
 },
 "nbformat": 4,
 "nbformat_minor": 5
}
